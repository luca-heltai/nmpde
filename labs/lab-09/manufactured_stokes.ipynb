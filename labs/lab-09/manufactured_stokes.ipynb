{
 "cells": [
  {
   "cell_type": "code",
   "execution_count": 1,
   "metadata": {},
   "outputs": [],
   "source": [
    "from sympy import *"
   ]
  },
  {
   "cell_type": "code",
   "execution_count": 5,
   "metadata": {},
   "outputs": [],
   "source": [
    "x, y = symbols('x y')\n",
    "\n",
    "# Define the function\n",
    "pre_curl = (x*(1-x))**2*(y*(1-y))**2\n",
    "pressure = x*(1-x)*y*(1-y)\n",
    "\n",
    "vel_x = diff(pre_curl, y)\n",
    "vel_y = -diff(pre_curl, x)"
   ]
  },
  {
   "cell_type": "code",
   "execution_count": 10,
   "metadata": {},
   "outputs": [
    {
     "name": "stdout",
     "output_type": "stream",
     "text": [
      "x^2*y^2*(1 - x)^2*(2*y - 2) + 2*x^2*y*(1 - x)^2*(1 - y)^2; -x^2*y^2*(1 - y)^2*(2*x - 2) - 2*x*y^2*(1 - x)^2*(1 - y)^2; x*y*(1 - x)*(1 - y)\n"
     ]
    }
   ],
   "source": [
    "expr = str(vel_x)+\"; \"+str(vel_y) +\"; \" + str(pressure)\n",
    "expr = expr.replace(\"**\", \"^\")\n",
    "print(expr)"
   ]
  },
  {
   "cell_type": "code",
   "execution_count": 9,
   "metadata": {},
   "outputs": [
    {
     "name": "stdout",
     "output_type": "stream",
     "text": [
      "-12*x^2*(x - 1)^2*(2*y - 1) - x*y*(1 - y) + y*(1 - x)*(1 - y) - 4*y*(y - 1)*(x^2*y + x^2*(y - 1) + 4*x*y*(x - 1) + 4*x*(x - 1)*(y - 1) + y*(x - 1)^2 + (x - 1)^2*(y - 1)); -x*y*(1 - x) + x*(1 - x)*(1 - y) + 4*x*(x - 1)*(x*y^2 + 4*x*y*(y - 1) + x*(y - 1)^2 + y^2*(x - 1) + 4*y*(x - 1)*(y - 1) + (x - 1)*(y - 1)^2) + 12*y^2*(2*x - 1)*(y - 1)^2; 0\n"
     ]
    }
   ],
   "source": [
    "force_x = -vel_x.diff(x,2)-vel_x.diff(y,2)+diff(pressure, x)\n",
    "force_y = -vel_y.diff(x,2)-vel_y.diff(y,2)+diff(pressure, y)\n",
    "\n",
    "force_expr = str(force_x)+\"; \"+str(force_y) + \"; 0\"\n",
    "force_expr = force_expr.replace(\"**\", \"^\")\n",
    "print(force_expr)"
   ]
  },
  {
   "cell_type": "code",
   "execution_count": null,
   "metadata": {},
   "outputs": [],
   "source": []
  }
 ],
 "metadata": {
  "kernelspec": {
   "display_name": "base",
   "language": "python",
   "name": "python3"
  },
  "language_info": {
   "codemirror_mode": {
    "name": "ipython",
    "version": 3
   },
   "file_extension": ".py",
   "mimetype": "text/x-python",
   "name": "python",
   "nbconvert_exporter": "python",
   "pygments_lexer": "ipython3",
   "version": "3.11.5"
  }
 },
 "nbformat": 4,
 "nbformat_minor": 2
}
